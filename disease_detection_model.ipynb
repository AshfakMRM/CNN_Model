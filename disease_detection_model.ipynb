{
  "nbformat": 4,
  "nbformat_minor": 0,
  "metadata": {
    "accelerator": "GPU",
    "colab": {
      "name": "disease_detection_model.ipynb",
      "provenance": [],
      "mount_file_id": "11S1-kyxifSg08eTJ9mU9zlWY33xCN4RN",
      "authorship_tag": "ABX9TyPqeXHmO05bEAs9D+34d0Gh",
      "include_colab_link": true
    },
    "kernelspec": {
      "display_name": "Python 3",
      "name": "python3"
    },
    "language_info": {
      "name": "python"
    }
  },
  "cells": [
    {
      "cell_type": "markdown",
      "metadata": {
        "id": "view-in-github",
        "colab_type": "text"
      },
      "source": [
        "<a href=\"https://colab.research.google.com/github/AshfakMRM/CNN_Model/blob/master/disease_detection_model.ipynb\" target=\"_parent\"><img src=\"https://colab.research.google.com/assets/colab-badge.svg\" alt=\"Open In Colab\"/></a>"
      ]
    },
    {
      "cell_type": "code",
      "metadata": {
        "colab": {
          "base_uri": "https://localhost:8080/"
        },
        "id": "M9Ka6bUmNg_K",
        "outputId": "bf885b69-3752-41f7-bea3-f2ef873fe002"
      },
      "source": [
        "!nvidia-smi"
      ],
      "execution_count": null,
      "outputs": [
        {
          "output_type": "stream",
          "text": [
            "Sat May 22 13:20:27 2021       \n",
            "+-----------------------------------------------------------------------------+\n",
            "| NVIDIA-SMI 465.19.01    Driver Version: 460.32.03    CUDA Version: 11.2     |\n",
            "|-------------------------------+----------------------+----------------------+\n",
            "| GPU  Name        Persistence-M| Bus-Id        Disp.A | Volatile Uncorr. ECC |\n",
            "| Fan  Temp  Perf  Pwr:Usage/Cap|         Memory-Usage | GPU-Util  Compute M. |\n",
            "|                               |                      |               MIG M. |\n",
            "|===============================+======================+======================|\n",
            "|   0  Tesla T4            Off  | 00000000:00:04.0 Off |                    0 |\n",
            "| N/A   50C    P8    10W /  70W |      0MiB / 15109MiB |      0%      Default |\n",
            "|                               |                      |                  N/A |\n",
            "+-------------------------------+----------------------+----------------------+\n",
            "                                                                               \n",
            "+-----------------------------------------------------------------------------+\n",
            "| Processes:                                                                  |\n",
            "|  GPU   GI   CI        PID   Type   Process name                  GPU Memory |\n",
            "|        ID   ID                                                   Usage      |\n",
            "|=============================================================================|\n",
            "|  No running processes found                                                 |\n",
            "+-----------------------------------------------------------------------------+\n"
          ],
          "name": "stdout"
        }
      ]
    },
    {
      "cell_type": "code",
      "metadata": {
        "id": "_cWqLigpOZ1l"
      },
      "source": [
        "from tensorflow.compat.v1 import ConfigProto\n",
        "from tensorflow.compat.v1 import InteractiveSession"
      ],
      "execution_count": null,
      "outputs": []
    },
    {
      "cell_type": "code",
      "metadata": {
        "id": "qPSSt6PMOZ3l"
      },
      "source": [
        "import tensorflow as tf\n",
        "\n",
        "from tensorflow.keras import datasets, layers, models\n",
        "import matplotlib.pyplot as plt"
      ],
      "execution_count": null,
      "outputs": []
    },
    {
      "cell_type": "code",
      "metadata": {
        "id": "th4Gktt3OZ6l"
      },
      "source": [
        "IMAGE_SIZE = [224, 224]\n",
        "\n",
        "train_path = '/content/drive/MyDrive/Dataset/train'\n",
        "valid_path = '/content/drive/MyDrive/Dataset/test'"
      ],
      "execution_count": null,
      "outputs": []
    },
    {
      "cell_type": "code",
      "metadata": {
        "id": "4yjk_I0IOoIe"
      },
      "source": [
        "model = models.Sequential()\n",
        "model.add(layers.Conv2D(32, (3, 3), activation='relu', input_shape=(224, 224, 3)))\n",
        "model.add(layers.MaxPooling2D((2, 2)))\n",
        "model.add(layers.Conv2D(64, (3, 3), activation='relu'))\n",
        "model.add(layers.MaxPooling2D((2, 2)))\n",
        "model.add(layers.Conv2D(64, (3, 3), activation='relu'))\n",
        "model.add(layers.MaxPooling2D((2, 2)))\n",
        "model.add(layers.Dropout(0.5))\n",
        "model.add(layers.Conv2D(128, (3, 3), activation='relu'))\n",
        "model.add(layers.MaxPooling2D((2, 2)))\n",
        "model.add(layers.Dropout(0.25))\n",
        "model.add(layers.Conv2D(128, (3, 3), activation='relu'))\n",
        "model.add(layers.MaxPooling2D((2, 2)))\n",
        "model.add(layers.Flatten())\n",
        "model.add(layers.Dropout(0.5))\n",
        "model.add(layers.Dense(512, activation='relu'))\n",
        "model.add(layers.Dense(256, activation='relu'))\n",
        "model.add(layers.Dense(128, activation='relu'))\n",
        "model.add(layers.Dense(32, activation='relu'))\n",
        "model.add(layers.Dense(8, activation='relu'))\n",
        "model.add(layers.Dense(2))"
      ],
      "execution_count": null,
      "outputs": []
    },
    {
      "cell_type": "code",
      "metadata": {
        "colab": {
          "base_uri": "https://localhost:8080/"
        },
        "id": "oJXrf3rDOaAY",
        "outputId": "b1200ba5-7135-4525-a0f5-2a4a0091e5f8"
      },
      "source": [
        "model.summary()"
      ],
      "execution_count": null,
      "outputs": [
        {
          "output_type": "stream",
          "text": [
            "Model: \"sequential\"\n",
            "_________________________________________________________________\n",
            "Layer (type)                 Output Shape              Param #   \n",
            "=================================================================\n",
            "conv2d (Conv2D)              (None, 222, 222, 32)      896       \n",
            "_________________________________________________________________\n",
            "max_pooling2d (MaxPooling2D) (None, 111, 111, 32)      0         \n",
            "_________________________________________________________________\n",
            "conv2d_1 (Conv2D)            (None, 109, 109, 64)      18496     \n",
            "_________________________________________________________________\n",
            "max_pooling2d_1 (MaxPooling2 (None, 54, 54, 64)        0         \n",
            "_________________________________________________________________\n",
            "conv2d_2 (Conv2D)            (None, 52, 52, 64)        36928     \n",
            "_________________________________________________________________\n",
            "max_pooling2d_2 (MaxPooling2 (None, 26, 26, 64)        0         \n",
            "_________________________________________________________________\n",
            "dropout (Dropout)            (None, 26, 26, 64)        0         \n",
            "_________________________________________________________________\n",
            "conv2d_3 (Conv2D)            (None, 24, 24, 128)       73856     \n",
            "_________________________________________________________________\n",
            "max_pooling2d_3 (MaxPooling2 (None, 12, 12, 128)       0         \n",
            "_________________________________________________________________\n",
            "dropout_1 (Dropout)          (None, 12, 12, 128)       0         \n",
            "_________________________________________________________________\n",
            "conv2d_4 (Conv2D)            (None, 10, 10, 128)       147584    \n",
            "_________________________________________________________________\n",
            "max_pooling2d_4 (MaxPooling2 (None, 5, 5, 128)         0         \n",
            "_________________________________________________________________\n",
            "flatten (Flatten)            (None, 3200)              0         \n",
            "_________________________________________________________________\n",
            "dropout_2 (Dropout)          (None, 3200)              0         \n",
            "_________________________________________________________________\n",
            "dense (Dense)                (None, 512)               1638912   \n",
            "_________________________________________________________________\n",
            "dense_1 (Dense)              (None, 256)               131328    \n",
            "_________________________________________________________________\n",
            "dense_2 (Dense)              (None, 128)               32896     \n",
            "_________________________________________________________________\n",
            "dense_3 (Dense)              (None, 32)                4128      \n",
            "_________________________________________________________________\n",
            "dense_4 (Dense)              (None, 8)                 264       \n",
            "_________________________________________________________________\n",
            "dense_5 (Dense)              (None, 2)                 18        \n",
            "=================================================================\n",
            "Total params: 2,085,306\n",
            "Trainable params: 2,085,306\n",
            "Non-trainable params: 0\n",
            "_________________________________________________________________\n"
          ],
          "name": "stdout"
        }
      ]
    },
    {
      "cell_type": "code",
      "metadata": {
        "id": "F9JVTgbtQqec"
      },
      "source": [
        "model.compile(\n",
        "  loss='categorical_crossentropy',\n",
        "  optimizer='sgd',\n",
        "  metrics=['accuracy']\n",
        ")"
      ],
      "execution_count": null,
      "outputs": []
    },
    {
      "cell_type": "code",
      "metadata": {
        "id": "iYA3Z5O6Rsd5"
      },
      "source": [
        "from tensorflow.keras.preprocessing.image import ImageDataGenerator\n",
        "\n",
        "train_datagen = ImageDataGenerator(rescale = 1./255,\n",
        "                                   shear_range = 0.2,\n",
        "                                   zoom_range = 0.2,\n",
        "                                   horizontal_flip = True)\n",
        "\n",
        "test_datagen = ImageDataGenerator(rescale = 1./255)"
      ],
      "execution_count": null,
      "outputs": []
    },
    {
      "cell_type": "code",
      "metadata": {
        "colab": {
          "base_uri": "https://localhost:8080/"
        },
        "id": "iGiFaosbR41W",
        "outputId": "2cada6f7-5d77-4e71-a7a9-aed09fe9b2f4"
      },
      "source": [
        "training_set = train_datagen.flow_from_directory('/content/drive/MyDrive/Dataset/train',\n",
        "                                                 target_size = (224, 224),\n",
        "                                                 batch_size = 16,\n",
        "                                                 class_mode = 'categorical')"
      ],
      "execution_count": null,
      "outputs": [
        {
          "output_type": "stream",
          "text": [
            "Found 2122 images belonging to 2 classes.\n"
          ],
          "name": "stdout"
        }
      ]
    },
    {
      "cell_type": "code",
      "metadata": {
        "colab": {
          "base_uri": "https://localhost:8080/"
        },
        "id": "qHp4s1m9R4nO",
        "outputId": "cf407075-0116-4c56-b106-e82b59988ec4"
      },
      "source": [
        "test_set = test_datagen.flow_from_directory('/content/drive/MyDrive/Dataset/test',\n",
        "                                            target_size = (224, 224),\n",
        "                                            batch_size = 16,\n",
        "                                            class_mode = 'categorical')"
      ],
      "execution_count": null,
      "outputs": [
        {
          "output_type": "stream",
          "text": [
            "Found 352 images belonging to 2 classes.\n"
          ],
          "name": "stdout"
        }
      ]
    },
    {
      "cell_type": "code",
      "metadata": {
        "id": "r5KFlYZGoJoY"
      },
      "source": [
        "from keras import callbacks\n",
        "earlystopping = callbacks.EarlyStopping(monitor =\"loss\", \n",
        "                                        mode =\"min\", patience = 5, \n",
        "                                        restore_best_weights = True)\n",
        "                    "
      ],
      "execution_count": null,
      "outputs": []
    },
    {
      "cell_type": "code",
      "metadata": {
        "colab": {
          "base_uri": "https://localhost:8080/"
        },
        "id": "BRpYeCAeRsVW",
        "outputId": "b649f4ea-7b18-42a0-e6a2-83be93da6fa1"
      },
      "source": [
        "history = model.fit(training_set, epochs=100, \n",
        "                    validation_data=test_set, steps_per_epoch=len(training_set),\n",
        "  validation_steps=len(test_set), callbacks =[earlystopping])"
      ],
      "execution_count": null,
      "outputs": [
        {
          "output_type": "stream",
          "text": [
            "Epoch 1/100\n",
            "133/133 [==============================] - 486s 3s/step - loss: 0.7653 - accuracy: 0.5732 - val_loss: 0.6749 - val_accuracy: 0.5966\n",
            "Epoch 2/100\n",
            "133/133 [==============================] - 27s 201ms/step - loss: 0.6837 - accuracy: 0.5781 - val_loss: 0.6780 - val_accuracy: 0.5966\n",
            "Epoch 3/100\n",
            "133/133 [==============================] - 27s 202ms/step - loss: 0.6715 - accuracy: 0.6067 - val_loss: 0.6730 - val_accuracy: 0.5966\n",
            "Epoch 4/100\n",
            "133/133 [==============================] - 27s 201ms/step - loss: 0.6755 - accuracy: 0.5909 - val_loss: 0.6711 - val_accuracy: 0.5966\n",
            "Epoch 5/100\n",
            "133/133 [==============================] - 27s 200ms/step - loss: 0.6724 - accuracy: 0.5996 - val_loss: 0.6700 - val_accuracy: 0.5966\n",
            "Epoch 6/100\n",
            "133/133 [==============================] - 27s 201ms/step - loss: 0.6658 - accuracy: 0.6093 - val_loss: 0.6639 - val_accuracy: 0.5966\n",
            "Epoch 7/100\n",
            "133/133 [==============================] - 27s 200ms/step - loss: 0.6638 - accuracy: 0.6126 - val_loss: 0.6504 - val_accuracy: 0.5966\n",
            "Epoch 8/100\n",
            "133/133 [==============================] - 27s 201ms/step - loss: 0.6654 - accuracy: 0.6074 - val_loss: 0.6091 - val_accuracy: 0.5966\n",
            "Epoch 9/100\n",
            "133/133 [==============================] - 27s 201ms/step - loss: 0.6439 - accuracy: 0.5797 - val_loss: 0.6719 - val_accuracy: 0.5966\n",
            "Epoch 10/100\n",
            "133/133 [==============================] - 27s 200ms/step - loss: 0.6767 - accuracy: 0.5796 - val_loss: 0.6734 - val_accuracy: 0.5966\n",
            "Epoch 11/100\n",
            "133/133 [==============================] - 27s 199ms/step - loss: 0.6348 - accuracy: 0.6266 - val_loss: 0.6605 - val_accuracy: 0.5824\n",
            "Epoch 12/100\n",
            "133/133 [==============================] - 27s 202ms/step - loss: 0.5792 - accuracy: 0.7512 - val_loss: 0.7054 - val_accuracy: 0.4034\n",
            "Epoch 13/100\n",
            "133/133 [==============================] - 27s 201ms/step - loss: 0.6933 - accuracy: 0.4932 - val_loss: 0.6739 - val_accuracy: 0.5966\n",
            "Epoch 14/100\n",
            "133/133 [==============================] - 27s 200ms/step - loss: 0.6568 - accuracy: 0.5960 - val_loss: 0.4692 - val_accuracy: 0.5966\n",
            "Epoch 15/100\n",
            "133/133 [==============================] - 27s 200ms/step - loss: 0.4767 - accuracy: 0.6717 - val_loss: 0.6906 - val_accuracy: 0.4233\n",
            "Epoch 16/100\n",
            "133/133 [==============================] - 26s 199ms/step - loss: 0.5227 - accuracy: 0.6960 - val_loss: 0.6990 - val_accuracy: 0.4034\n",
            "Epoch 17/100\n",
            "133/133 [==============================] - 27s 199ms/step - loss: 0.6889 - accuracy: 0.5366 - val_loss: 0.6778 - val_accuracy: 0.5966\n",
            "Epoch 18/100\n",
            "133/133 [==============================] - 27s 201ms/step - loss: 0.6793 - accuracy: 0.5832 - val_loss: 0.6740 - val_accuracy: 0.5966\n",
            "Epoch 19/100\n",
            "133/133 [==============================] - 26s 199ms/step - loss: 0.6689 - accuracy: 0.6077 - val_loss: 0.6693 - val_accuracy: 0.5966\n",
            "Epoch 20/100\n",
            "133/133 [==============================] - 27s 200ms/step - loss: 0.6439 - accuracy: 0.5953 - val_loss: 0.3189 - val_accuracy: 0.5966\n"
          ],
          "name": "stdout"
        }
      ]
    },
    {
      "cell_type": "code",
      "metadata": {
        "colab": {
          "base_uri": "https://localhost:8080/",
          "height": 530
        },
        "id": "EzWPOI2U-Eoc",
        "outputId": "0d5f8db9-a4ce-46bc-dbf5-59bb553141b2"
      },
      "source": [
        "import matplotlib.pyplot as plt\n",
        "# plot the loss\n",
        "plt.plot(history.history['loss'], label='train loss')\n",
        "plt.plot(history.history['val_loss'], label='val loss')\n",
        "plt.legend()\n",
        "plt.show()\n",
        "plt.savefig('LossVal_loss')\n",
        "\n",
        "# plot the accuracy\n",
        "plt.plot(history.history['accuracy'], label='train acc')\n",
        "plt.plot(history.history['val_accuracy'], label='val acc')\n",
        "plt.legend()\n",
        "plt.show()\n",
        "plt.savefig('AccVal_acc')"
      ],
      "execution_count": null,
      "outputs": [
        {
          "output_type": "display_data",
          "data": {
            "image/png": "[encoded data removed]",
            "text/plain": [
              "<Figure size 432x288 with 1 Axes>"
            ]
          },
          "metadata": {
            "tags": [],
            "needs_background": "light"
          }
        },
        {
          "output_type": "display_data",
          "data": {
            "image/png": "[encoded data removed]",
            "text/plain": [
              "<Figure size 432x288 with 1 Axes>"
            ]
          },
          "metadata": {
            "tags": [],
            "needs_background": "light"
          }
        },
        {
          "output_type": "display_data",
          "data": {
            "text/plain": [
              "<Figure size 432x288 with 0 Axes>"
            ]
          },
          "metadata": {
            "tags": []
          }
        }
      ]
    },
    {
      "cell_type": "code",
      "metadata": {
        "id": "WsUCRx5L-fGR"
      },
      "source": [
        "from tensorflow.keras.models import load_model\n",
        "\n",
        "model.save('model_own.h5')"
      ],
      "execution_count": null,
      "outputs": []
    },
    {
      "cell_type": "code",
      "metadata": {
        "id": "mQxH76njffEt"
      },
      "source": [
        "import tensorflow as tf\n",
        "tf.keras.utils.plot_model(model, show_shapes=True, show_layer_names=True)"
      ],
      "execution_count": null,
      "outputs": []
    },
    {
      "cell_type": "code",
      "metadata": {
        "id": "J1U2okE_T4Ps"
      },
      "source": [
        "import tensorflow as tf\n",
        "new_model = tf.keras.models.load_model('/content/drive/MyDrive/Models/model_inception.h5')\n",
        "\n",
        "# Show the model architecture\n",
        "new_model.summary()"
      ],
      "execution_count": null,
      "outputs": []
    }
  ]
}