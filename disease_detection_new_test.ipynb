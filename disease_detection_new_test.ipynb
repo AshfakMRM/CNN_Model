{
  "nbformat": 4,
  "nbformat_minor": 0,
  "metadata": {
    "colab": {
      "name": "disease_detection_new_test.ipynb",
      "provenance": [],
      "mount_file_id": "1Gbp3nA0Fq8AIRA-BTOa824WhMb2Xs1cW",
      "authorship_tag": "ABX9TyNRA8NvJp6CnqEp3eK/skjw",
      "include_colab_link": true
    },
    "kernelspec": {
      "name": "python3",
      "display_name": "Python 3"
    },
    "language_info": {
      "name": "python"
    }
  },
  "cells": [
    {
      "cell_type": "markdown",
      "metadata": {
        "id": "view-in-github",
        "colab_type": "text"
      },
      "source": [
        "<a href=\"https://colab.research.google.com/github/AshfakMRM/CNN_Model/blob/master/disease_detection_new_test.ipynb\" target=\"_parent\"><img src=\"https://colab.research.google.com/assets/colab-badge.svg\" alt=\"Open In Colab\"/></a>"
      ]
    },
    {
      "cell_type": "code",
      "metadata": {
        "id": "hX-q8qXue5kj"
      },
      "source": [
        "from tensorflow.compat.v1 import ConfigProto\n",
        "from tensorflow.compat.v1 import InteractiveSession"
      ],
      "execution_count": 1,
      "outputs": []
    },
    {
      "cell_type": "code",
      "metadata": {
        "id": "fTXfPfT7fOz9"
      },
      "source": [
        "import tensorflow as tf\n",
        "\n",
        "from tensorflow.keras import datasets, layers, models\n",
        "import matplotlib.pyplot as plt"
      ],
      "execution_count": 2,
      "outputs": []
    },
    {
      "cell_type": "code",
      "metadata": {
        "id": "5VGSiMUvfVj0"
      },
      "source": [
        "IMAGE_SIZE = [224, 224]\n",
        "\n",
        "train_path = '/content/drive/MyDrive/Dataset/train'\n",
        "valid_path = '/content/drive/MyDrive/Dataset/test'"
      ],
      "execution_count": 3,
      "outputs": []
    },
    {
      "cell_type": "code",
      "metadata": {
        "id": "tYBKHrEQfYsm"
      },
      "source": [
        "model = models.Sequential()\n",
        "model.add(layers.Conv2D(32, (3, 3), activation='relu', input_shape=(224, 224, 3)))\n",
        "model.add(layers.MaxPooling2D((2, 2)))\n",
        "model.add(layers.Conv2D(64, (3, 3), activation='relu'))\n",
        "model.add(layers.MaxPooling2D((2, 2)))\n",
        "model.add(layers.Conv2D(64, (3, 3), activation='relu'))\n",
        "model.add(layers.MaxPooling2D((2, 2)))\n",
        "model.add(layers.Dropout(0.5))\n",
        "model.add(layers.Conv2D(128, (3, 3), activation='relu'))\n",
        "model.add(layers.MaxPooling2D((2, 2)))\n",
        "model.add(layers.Dropout(0.25))\n",
        "model.add(layers.Conv2D(128, (3, 3), activation='relu'))\n",
        "model.add(layers.MaxPooling2D((2, 2)))\n",
        "model.add(layers.Flatten())\n",
        "model.add(layers.Dropout(0.5))\n",
        "model.add(layers.Dense(512, activation='relu'))\n",
        "model.add(layers.Dense(256, activation='relu'))\n",
        "model.add(layers.Dense(128, activation='relu'))\n",
        "model.add(layers.Dense(32, activation='relu'))\n",
        "model.add(layers.Dense(8, activation='relu'))\n",
        "model.add(layers.Dense(2, activation='softmax'))"
      ],
      "execution_count": 4,
      "outputs": []
    },
    {
      "cell_type": "code",
      "metadata": {
        "colab": {
          "base_uri": "https://localhost:8080/"
        },
        "id": "e7-kCAZLf8GX",
        "outputId": "eb886d34-2eb1-44e2-838d-0f186cf7f816"
      },
      "source": [
        "model.summary()"
      ],
      "execution_count": 5,
      "outputs": [
        {
          "output_type": "stream",
          "text": [
            "Model: \"sequential\"\n",
            "_________________________________________________________________\n",
            "Layer (type)                 Output Shape              Param #   \n",
            "=================================================================\n",
            "conv2d (Conv2D)              (None, 222, 222, 32)      896       \n",
            "_________________________________________________________________\n",
            "max_pooling2d (MaxPooling2D) (None, 111, 111, 32)      0         \n",
            "_________________________________________________________________\n",
            "conv2d_1 (Conv2D)            (None, 109, 109, 64)      18496     \n",
            "_________________________________________________________________\n",
            "max_pooling2d_1 (MaxPooling2 (None, 54, 54, 64)        0         \n",
            "_________________________________________________________________\n",
            "conv2d_2 (Conv2D)            (None, 52, 52, 64)        36928     \n",
            "_________________________________________________________________\n",
            "max_pooling2d_2 (MaxPooling2 (None, 26, 26, 64)        0         \n",
            "_________________________________________________________________\n",
            "dropout (Dropout)            (None, 26, 26, 64)        0         \n",
            "_________________________________________________________________\n",
            "conv2d_3 (Conv2D)            (None, 24, 24, 128)       73856     \n",
            "_________________________________________________________________\n",
            "max_pooling2d_3 (MaxPooling2 (None, 12, 12, 128)       0         \n",
            "_________________________________________________________________\n",
            "dropout_1 (Dropout)          (None, 12, 12, 128)       0         \n",
            "_________________________________________________________________\n",
            "conv2d_4 (Conv2D)            (None, 10, 10, 128)       147584    \n",
            "_________________________________________________________________\n",
            "max_pooling2d_4 (MaxPooling2 (None, 5, 5, 128)         0         \n",
            "_________________________________________________________________\n",
            "flatten (Flatten)            (None, 3200)              0         \n",
            "_________________________________________________________________\n",
            "dropout_2 (Dropout)          (None, 3200)              0         \n",
            "_________________________________________________________________\n",
            "dense (Dense)                (None, 512)               1638912   \n",
            "_________________________________________________________________\n",
            "dense_1 (Dense)              (None, 256)               131328    \n",
            "_________________________________________________________________\n",
            "dense_2 (Dense)              (None, 128)               32896     \n",
            "_________________________________________________________________\n",
            "dense_3 (Dense)              (None, 32)                4128      \n",
            "_________________________________________________________________\n",
            "dense_4 (Dense)              (None, 8)                 264       \n",
            "_________________________________________________________________\n",
            "dense_5 (Dense)              (None, 2)                 18        \n",
            "=================================================================\n",
            "Total params: 2,085,306\n",
            "Trainable params: 2,085,306\n",
            "Non-trainable params: 0\n",
            "_________________________________________________________________\n"
          ],
          "name": "stdout"
        }
      ]
    },
    {
      "cell_type": "code",
      "metadata": {
        "id": "MJsA6jgUgCNO"
      },
      "source": [
        "model.compile(\n",
        "  loss='categorical_crossentropy',\n",
        "  optimizer='sgd',\n",
        "  metrics=['accuracy']\n",
        ")"
      ],
      "execution_count": 6,
      "outputs": []
    },
    {
      "cell_type": "code",
      "metadata": {
        "id": "f7TyJgYGgE8A"
      },
      "source": [
        "from tensorflow.keras.preprocessing.image import ImageDataGenerator\n",
        "\n",
        "train_datagen = ImageDataGenerator(rescale = 1./255,\n",
        "                                   shear_range = 0.2,\n",
        "                                   zoom_range = 0.2,\n",
        "                                   horizontal_flip = True)\n",
        "\n",
        "test_datagen = ImageDataGenerator(rescale = 1./255)"
      ],
      "execution_count": 7,
      "outputs": []
    },
    {
      "cell_type": "code",
      "metadata": {
        "colab": {
          "base_uri": "https://localhost:8080/"
        },
        "id": "mlY4vN_AgH5m",
        "outputId": "7b271f7d-4ff8-4bf3-d4d0-10944e87b45e"
      },
      "source": [
        "training_set = train_datagen.flow_from_directory('/content/drive/MyDrive/Dataset/train',\n",
        "                                                 target_size = (224, 224),\n",
        "                                                 batch_size = 16,\n",
        "                                                 class_mode = 'categorical')"
      ],
      "execution_count": 8,
      "outputs": [
        {
          "output_type": "stream",
          "text": [
            "Found 2122 images belonging to 2 classes.\n"
          ],
          "name": "stdout"
        }
      ]
    },
    {
      "cell_type": "code",
      "metadata": {
        "colab": {
          "base_uri": "https://localhost:8080/"
        },
        "id": "Uf_-yY4wgK7a",
        "outputId": "f5583ad7-3875-4dac-c3bd-ce5b9a2d873b"
      },
      "source": [
        "test_set = test_datagen.flow_from_directory('/content/drive/MyDrive/Dataset/test',\n",
        "                                            target_size = (224, 224),\n",
        "                                            batch_size = 16,\n",
        "                                            class_mode = 'categorical')"
      ],
      "execution_count": 12,
      "outputs": [
        {
          "output_type": "stream",
          "text": [
            "Found 352 images belonging to 2 classes.\n"
          ],
          "name": "stdout"
        }
      ]
    },
    {
      "cell_type": "code",
      "metadata": {
        "id": "gP4nPrGOgODs"
      },
      "source": [
        "from keras import callbacks\n",
        "earlystopping = callbacks.EarlyStopping(monitor =\"loss\", \n",
        "                                        mode =\"min\", patience = 5, \n",
        "                                        restore_best_weights = True)"
      ],
      "execution_count": 13,
      "outputs": []
    },
    {
      "cell_type": "code",
      "metadata": {
        "colab": {
          "base_uri": "https://localhost:8080/"
        },
        "id": "XM8rSuVngPnw",
        "outputId": "65efa667-9b39-48d1-fc62-c64dee1f4f85"
      },
      "source": [
        "history = model.fit(training_set, epochs=100, \n",
        "                    validation_data=test_set, steps_per_epoch=len(training_set),\n",
        "  validation_steps=len(test_set), callbacks =[earlystopping])"
      ],
      "execution_count": 14,
      "outputs": [
        {
          "output_type": "stream",
          "text": [
            "Epoch 1/100\n",
            "133/133 [==============================] - 662s 5s/step - loss: 0.6821 - accuracy: 0.5910 - val_loss: 0.6772 - val_accuracy: 0.5966\n",
            "Epoch 2/100\n",
            "133/133 [==============================] - 209s 2s/step - loss: 0.6751 - accuracy: 0.5975 - val_loss: 0.6748 - val_accuracy: 0.5966\n",
            "Epoch 3/100\n",
            "133/133 [==============================] - 209s 2s/step - loss: 0.6734 - accuracy: 0.5975 - val_loss: 0.6737 - val_accuracy: 0.5966\n",
            "Epoch 4/100\n",
            "133/133 [==============================] - 209s 2s/step - loss: 0.6736 - accuracy: 0.5975 - val_loss: 0.6736 - val_accuracy: 0.5966\n",
            "Epoch 5/100\n",
            "133/133 [==============================] - 210s 2s/step - loss: 0.6718 - accuracy: 0.5975 - val_loss: 0.6728 - val_accuracy: 0.5966\n",
            "Epoch 6/100\n",
            "133/133 [==============================] - 211s 2s/step - loss: 0.6700 - accuracy: 0.5975 - val_loss: 0.6691 - val_accuracy: 0.5966\n",
            "Epoch 7/100\n",
            "133/133 [==============================] - 213s 2s/step - loss: 0.6670 - accuracy: 0.5971 - val_loss: 0.6580 - val_accuracy: 0.5966\n",
            "Epoch 8/100\n",
            "133/133 [==============================] - 213s 2s/step - loss: 0.6397 - accuracy: 0.6305 - val_loss: 0.6106 - val_accuracy: 0.8295\n",
            "Epoch 9/100\n",
            "133/133 [==============================] - 211s 2s/step - loss: 0.5848 - accuracy: 0.7107 - val_loss: 0.5156 - val_accuracy: 0.8182\n",
            "Epoch 10/100\n",
            "133/133 [==============================] - 212s 2s/step - loss: 0.4936 - accuracy: 0.7912 - val_loss: 0.5010 - val_accuracy: 0.8324\n",
            "Epoch 11/100\n",
            "133/133 [==============================] - 210s 2s/step - loss: 0.4066 - accuracy: 0.8327 - val_loss: 0.7057 - val_accuracy: 0.5966\n",
            "Epoch 12/100\n",
            "133/133 [==============================] - 210s 2s/step - loss: 0.3845 - accuracy: 0.8369 - val_loss: 0.2839 - val_accuracy: 0.9318\n",
            "Epoch 13/100\n",
            "133/133 [==============================] - 210s 2s/step - loss: 0.2139 - accuracy: 0.9222 - val_loss: 0.1976 - val_accuracy: 0.9517\n",
            "Epoch 14/100\n",
            "133/133 [==============================] - 209s 2s/step - loss: 0.1667 - accuracy: 0.9402 - val_loss: 0.1900 - val_accuracy: 0.9886\n",
            "Epoch 15/100\n",
            "133/133 [==============================] - 209s 2s/step - loss: 0.1147 - accuracy: 0.9637 - val_loss: 0.2154 - val_accuracy: 0.9915\n",
            "Epoch 16/100\n",
            "133/133 [==============================] - 206s 2s/step - loss: 0.3100 - accuracy: 0.8582 - val_loss: 0.8531 - val_accuracy: 0.6222\n",
            "Epoch 17/100\n",
            "133/133 [==============================] - 205s 2s/step - loss: 0.5319 - accuracy: 0.7352 - val_loss: 0.5932 - val_accuracy: 0.6761\n",
            "Epoch 18/100\n",
            "133/133 [==============================] - 205s 2s/step - loss: 0.4615 - accuracy: 0.7964 - val_loss: 0.3280 - val_accuracy: 0.9205\n",
            "Epoch 19/100\n",
            "133/133 [==============================] - 204s 2s/step - loss: 0.5536 - accuracy: 0.7158 - val_loss: 0.6926 - val_accuracy: 0.5938\n",
            "Epoch 20/100\n",
            "133/133 [==============================] - 203s 2s/step - loss: 0.6509 - accuracy: 0.6211 - val_loss: 0.6385 - val_accuracy: 0.6506\n"
          ],
          "name": "stdout"
        }
      ]
    },
    {
      "cell_type": "code",
      "metadata": {
        "colab": {
          "base_uri": "https://localhost:8080/",
          "height": 530
        },
        "id": "QJKBS7qF0pgX",
        "outputId": "d6b9924d-51c0-4baf-de1b-61b20c4971b4"
      },
      "source": [
        "import matplotlib.pyplot as plt\n",
        "# plot the loss\n",
        "plt.plot(history.history['loss'], label='train loss')\n",
        "plt.plot(history.history['val_loss'], label='val loss')\n",
        "plt.legend()\n",
        "plt.show()\n",
        "plt.savefig('LossVal_loss')\n",
        "\n",
        "# plot the accuracy\n",
        "plt.plot(history.history['accuracy'], label='train acc')\n",
        "plt.plot(history.history['val_accuracy'], label='val acc')\n",
        "plt.legend()\n",
        "plt.show()\n",
        "plt.savefig('AccVal_acc')"
      ],
      "execution_count": 15,
      "outputs": [
        {
          "output_type": "display_data",
          "data": {
            "image/png": "[encoded data removed]",
            "text/plain": [
              "<Figure size 432x288 with 1 Axes>"
            ]
          },
          "metadata": {
            "tags": [],
            "needs_background": "light"
          }
        },
        {
          "output_type": "display_data",
          "data": {
            "image/png": "[encoded data removed]",
            "text/plain": [
              "<Figure size 432x288 with 1 Axes>"
            ]
          },
          "metadata": {
            "tags": [],
            "needs_background": "light"
          }
        },
        {
          "output_type": "display_data",
          "data": {
            "text/plain": [
              "<Figure size 432x288 with 0 Axes>"
            ]
          },
          "metadata": {
            "tags": []
          }
        }
      ]
    },
    {
      "cell_type": "code",
      "metadata": {
        "id": "1kWV_h4E0uFk"
      },
      "source": [
        "from tensorflow.keras.models import load_model\n",
        "\n",
        "model.save('model_own2.h5')"
      ],
      "execution_count": 16,
      "outputs": []
    }
  ]
}